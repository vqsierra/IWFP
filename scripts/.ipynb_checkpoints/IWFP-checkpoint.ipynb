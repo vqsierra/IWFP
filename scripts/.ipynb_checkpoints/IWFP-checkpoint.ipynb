{
 "cells": [
  {
   "cell_type": "raw",
   "id": "c5706612",
   "metadata": {},
   "source": [
    "---\n",
    "title: \"Indigenous Wholistic Factors Project: Predicting Suicidal Ideation among Native American High Schoolers in California\"\n",
    "format: \n",
    "  html:\n",
    "    code-fold: true\n",
    "jupyter: python3\n",
    "---"
   ]
  },
  {
   "cell_type": "code",
   "execution_count": null,
   "id": "863eb761",
   "metadata": {
    "scrolled": true
   },
   "outputs": [],
   "source": [
    "#pip install --upgrade --user stata_setup"
   ]
  },
  {
   "cell_type": "code",
   "execution_count": 1,
   "id": "c1962458",
   "metadata": {},
   "outputs": [
    {
     "name": "stdout",
     "output_type": "stream",
     "text": [
      "\n",
      "  ___  ____  ____  ____  ____ ®\n",
      " /__    /   ____/   /   ____/      17.0\n",
      "___/   /   /___/   /   /___/       SE—Standard Edition\n",
      "\n",
      " Statistics and Data Science       Copyright 1985-2021 StataCorp LLC\n",
      "                                   StataCorp\n",
      "                                   4905 Lakeway Drive\n",
      "                                   College Station, Texas 77845 USA\n",
      "                                   800-STATA-PC        https://www.stata.com\n",
      "                                   979-696-4600        stata@stata.com\n",
      "\n",
      "Stata license: Single-user , expiring 10 Nov 2023\n",
      "Serial number: 401709210089\n",
      "  Licensed to: Valentín Sierra\n",
      "               UC Berkeley\n",
      "\n",
      "Notes:\n",
      "      1. Unicode is supported; see help unicode_advice.\n",
      "      2. Maximum number of variables is set to 5,000; see help set_maxvar.\n"
     ]
    }
   ],
   "source": [
    "import stata_setup\n",
    "stata_setup.config('/Applications/Stata/', 'se')"
   ]
  },
  {
   "cell_type": "code",
   "execution_count": 3,
   "id": "11ffa528",
   "metadata": {},
   "outputs": [
    {
     "name": "stdout",
     "output_type": "stream",
     "text": [
      "(2019-2020 Secondary CHKS Data)\n"
     ]
    }
   ],
   "source": [
    "%%stata\n",
    "use \"/Users/home/Desktop/Github/IWFP/rawdata/CHKS_1920_SecondaryData_Statewide_PseudoDistrictSchoolID_090821.dta\"\n"
   ]
  },
  {
   "cell_type": "code",
   "execution_count": 4,
   "id": "24c4d7ef",
   "metadata": {},
   "outputs": [
    {
     "name": "stdout",
     "output_type": "stream",
     "text": [
      "(492,517 observations deleted)\n"
     ]
    }
   ],
   "source": [
    "%%stata\n",
    "keep if a7 == 1"
   ]
  },
  {
   "cell_type": "markdown",
   "id": "94681aff",
   "metadata": {},
   "source": [
    "# Binary Variable Outcomes"
   ]
  },
  {
   "cell_type": "markdown",
   "id": "97aff3ec",
   "metadata": {},
   "source": [
    "## Suicidal Ideation"
   ]
  },
  {
   "cell_type": "code",
   "execution_count": null,
   "id": "a24d4fb0",
   "metadata": {},
   "outputs": [],
   "source": [
    "%%stata\n",
    "gen si=.\n",
    "replace si= a131_a119\n",
    "recode si (1=0) (2=1)\n",
    "drop if si ==."
   ]
  },
  {
   "cell_type": "markdown",
   "id": "552e4f2c",
   "metadata": {},
   "source": [
    "# Predictor Variables"
   ]
  },
  {
   "cell_type": "markdown",
   "id": "abe94af9",
   "metadata": {},
   "source": [
    "## Individual"
   ]
  },
  {
   "cell_type": "markdown",
   "id": "a11e61b2",
   "metadata": {},
   "source": [
    "### Gender"
   ]
  },
  {
   "cell_type": "code",
   "execution_count": 8,
   "id": "65b8bc13",
   "metadata": {},
   "outputs": [
    {
     "name": "stdout",
     "output_type": "stream",
     "text": [
      "\n",
      ". gen gender=.\n",
      "(17,371 missing values generated)\n",
      "\n",
      ". replace gender= a4\n",
      "(13,763 real changes made)\n",
      "\n",
      ". recode gender (1=0) (2=1)\n",
      "(13763 changes made to gender)\n",
      "\n",
      ". drop if gender ==.\n",
      "(3,608 observations deleted)\n",
      "\n",
      ". \n"
     ]
    }
   ],
   "source": [
    "%%stata\n",
    "gen gender=.\n",
    "replace gender= a4\n",
    "recode gender (1=0) (2=1)\n",
    "drop if gender ==."
   ]
  },
  {
   "cell_type": "markdown",
   "id": "ebaf0ec7",
   "metadata": {},
   "source": [
    "### Transgender"
   ]
  },
  {
   "cell_type": "code",
   "execution_count": null,
   "id": "aa2c8303",
   "metadata": {},
   "outputs": [],
   "source": [
    "%%stata\n",
    "gen trans=.\n",
    "replace trans= a5\n",
    "recode trans (1=0) (2=1) (3=1) (4=0)\n",
    "drop if trans ==."
   ]
  }
 ],
 "metadata": {
  "kernelspec": {
   "display_name": "Python 3 (ipykernel)",
   "language": "python",
   "name": "python3"
  },
  "language_info": {
   "codemirror_mode": {
    "name": "ipython",
    "version": 3
   },
   "file_extension": ".py",
   "mimetype": "text/x-python",
   "name": "python",
   "nbconvert_exporter": "python",
   "pygments_lexer": "ipython3",
   "version": "3.9.7"
  }
 },
 "nbformat": 4,
 "nbformat_minor": 5
}
